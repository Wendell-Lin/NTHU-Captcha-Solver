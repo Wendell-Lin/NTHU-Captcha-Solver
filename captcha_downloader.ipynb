{
 "cells": [
  {
   "cell_type": "code",
   "execution_count": null,
   "metadata": {},
   "outputs": [],
   "source": [
    "# from pyvirtualdisplay import Display\n",
    "# display = Display(visible=1, size=(800, 600))\n",
    "# display.start()"
   ]
  },
  {
   "cell_type": "code",
   "execution_count": 15,
   "metadata": {},
   "outputs": [],
   "source": [
    "from selenium import webdriver\n",
    "import requests\n",
    "driver = webdriver.Firefox()\n",
    "driver.get('https://oauth.ccxp.nthu.edu.tw/v1.1/authorize.php?response_type=code&client_id=eeclass&redirect_uri=https%3A%2F%2Feeclass.nthu.edu.tw%2Fservice%2Foauth%2F&scope=lmsid+userid&state=&ui_locales=zh-TW')\n",
    "\n",
    "\n",
    "for i in range(379, 10000):\n",
    "    # load and save imgs\n",
    "    img = driver.find_element_by_xpath('//img[@id=\"captcha_image\"]')\n",
    "    url = img.get_attribute('src')\n",
    "    r = requests.post(url)\n",
    "    open(\"./images/i%04d.png\" % i, 'wb').write(r.content)\n",
    "    r = requests.post(url[:-5].replace('img', 'play'), cookies=r.cookies) # cookies sync img and wav\n",
    "    open(\"./audios/a%04d.wav\" % i, 'wb').write(r.content)"
   ]
  },
  {
   "cell_type": "code",
   "execution_count": null,
   "metadata": {},
   "outputs": [],
   "source": []
  }
 ],
 "metadata": {
  "interpreter": {
   "hash": "31f2aee4e71d21fbe5cf8b01ff0e069b9275f58929596ceb00d14d90e3e16cd6"
  },
  "kernelspec": {
   "display_name": "Python 3 (ipykernel)",
   "language": "python",
   "name": "python3"
  },
  "language_info": {
   "codemirror_mode": {
    "name": "ipython",
    "version": 3
   },
   "file_extension": ".py",
   "mimetype": "text/x-python",
   "name": "python",
   "nbconvert_exporter": "python",
   "pygments_lexer": "ipython3",
   "version": "3.7.12"
  }
 },
 "nbformat": 4,
 "nbformat_minor": 2
}
