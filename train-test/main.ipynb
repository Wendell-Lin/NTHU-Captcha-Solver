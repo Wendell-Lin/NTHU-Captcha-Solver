{
 "cells": [
  {
   "cell_type": "code",
   "execution_count": 1,
   "id": "202c3baa",
   "metadata": {},
   "outputs": [],
   "source": [
    "from PIL import Image\n",
    "import requests\n",
    "import matplotlib.pyplot as plt \n",
    "from io import BytesIO\n",
    "import numpy as np\n",
    "cookie_obj = {\n",
    "                'PHPSESSID':'smtv186m6df4tr6cl1m4gci8'\n",
    "}\n",
    "url = 'https://oauth.ccxp.nthu.edu.tw/v1.1/captchaimg.php?id=972b498d941796ca0289a7149a8efc6c785e19c0&amp;'\n",
    "response = requests.get(url\n",
    "                        , cookies=cookie_obj\n",
    "                       )\n",
    "image = Image.open(BytesIO(response.content)).convert('L')\n"
   ]
  },
  {
   "cell_type": "code",
   "execution_count": 2,
   "id": "a472fa01",
   "metadata": {},
   "outputs": [],
   "source": [
    "def get_image(url_and_cookie):\n",
    "    url, cookie = url_and_cookie\n",
    "    response = requests.get(url\n",
    "                        , cookies=cookie\n",
    "                       )\n",
    "    image = Image.open(BytesIO(response.content)).convert('L')\n",
    "    np_img = np.array(image)\n",
    "    np_img = (np_img / 255.).astype(np.float32)\n",
    "    np_img = np.expand_dims(np_img, axis=-1)\n",
    "    np_img = np_img.transpose(1, 0, 2)\n",
    "    np_img = np.expand_dims(np_img, axis=0)\n",
    "    return np_img"
   ]
  },
  {
   "cell_type": "code",
   "execution_count": 3,
   "id": "556b750c",
   "metadata": {},
   "outputs": [
    {
     "data": {
      "text/plain": [
       "5"
      ]
     },
     "execution_count": 3,
     "metadata": {},
     "output_type": "execute_result"
    }
   ],
   "source": [
    "from concurrent.futures import ThreadPoolExecutor\n",
    "url_and_cookie = [(url, cookie_obj)] * 5\n",
    "\n",
    "pool = ThreadPoolExecutor(max_workers=5)\n",
    "\n",
    "images = []\n",
    "\n",
    "for image in pool.map(get_image, url_and_cookie):\n",
    "    images.append(image)\n",
    "    \n",
    "len(images)"
   ]
  },
  {
   "cell_type": "code",
   "execution_count": 4,
   "id": "a8e8c769",
   "metadata": {},
   "outputs": [],
   "source": [
    "images = np.array(images)"
   ]
  },
  {
   "cell_type": "code",
   "execution_count": null,
   "id": "94202025",
   "metadata": {},
   "outputs": [],
   "source": []
  },
  {
   "cell_type": "code",
   "execution_count": 1,
   "id": "5603fafd",
   "metadata": {},
   "outputs": [
    {
     "ename": "SyntaxError",
     "evalue": "invalid syntax (1251970971.py, line 1)",
     "output_type": "error",
     "traceback": [
      "\u001b[0;36m  File \u001b[0;32m\"/tmp/ipykernel_26810/1251970971.py\"\u001b[0;36m, line \u001b[0;32m1\u001b[0m\n\u001b[0;31m    python3 ./test.py 'https://oauth.ccxp.nthu.edu.tw/v1.1/captchaimg.php?id=972b498d941796ca0289a7149a8efc6c785e19c0&amp;' 'r917roahuv77qk7qbh6sjlrodb'\u001b[0m\n\u001b[0m             ^\u001b[0m\n\u001b[0;31mSyntaxError\u001b[0m\u001b[0;31m:\u001b[0m invalid syntax\n"
     ]
    }
   ],
   "source": [
    "python3 ./test.py 'https://oauth.ccxp.nthu.edu.tw/v1.1/captchaimg.php?id=972b498d941796ca0289a7149a8efc6c785e19c0&amp;' 'r917roahuv77qk7qbh6sjlrodb'"
   ]
  },
  {
   "cell_type": "code",
   "execution_count": 6,
   "id": "62c2b980",
   "metadata": {},
   "outputs": [],
   "source": [
    "import tflite_runtime.interpreter as tflite\n",
    "# type(np_img[0][0][0][0])"
   ]
  },
  {
   "cell_type": "code",
   "execution_count": 7,
   "id": "84e44eaa",
   "metadata": {},
   "outputs": [],
   "source": [
    "def decode(preds):\n",
    "    np.argmax(preds, axis=2)\n",
    "    p = np.argmax(preds, axis=2)\n",
    "    to_num = ['?','4', '5', '0', '6', '3', '7', '9', '1', '8', '2']\n",
    "    ans = ''\n",
    "    for idx, i in enumerate(p[0]):\n",
    "        if i == 11:\n",
    "            continue\n",
    "        # fix adjacent problem\n",
    "        elif idx + 1 < len(p[0]) and i == p[0][idx + 1]:\n",
    "                continue\n",
    "        else:\n",
    "            ans += to_num[i]\n",
    "\n",
    "    return ans"
   ]
  },
  {
   "cell_type": "code",
   "execution_count": 8,
   "id": "a22b4290",
   "metadata": {},
   "outputs": [],
   "source": [
    "# interpreter.get_tensor_details()"
   ]
  },
  {
   "cell_type": "code",
   "execution_count": 21,
   "id": "583a3bf1",
   "metadata": {},
   "outputs": [
    {
     "data": {
      "text/plain": [
       "'0299'"
      ]
     },
     "execution_count": 21,
     "metadata": {},
     "output_type": "execute_result"
    }
   ],
   "source": [
    "\n",
    "interpreter = tflite.Interpreter(model_path=\"./model.tflite\")\n",
    "\n",
    "# Get input and output tensors\n",
    "input_details = interpreter.get_input_details()\n",
    "output_details = interpreter.get_output_details()\n",
    "\n",
    "# interpreter.resize_tensor_input(input_details[0]['index'], [5, 150,  80, 1])\n",
    "# interpreter.resize_tensor_input(output_details[0]['index'], [5, 1, 12])\n",
    "interpreter.allocate_tensors()\n",
    "#Structuring because TFlite doesn't do that\n",
    "# input_shape = input_details[0]['shape']\n",
    "# input_data = np_img.astype(np.float32)\n",
    "tflite_results = []\n",
    "for i in images:\n",
    "    interpreter.set_tensor(input_details[0]['index'], i)\n",
    "\n",
    "    interpreter.invoke()\n",
    "\n",
    "    tflite_result = interpreter.get_tensor(output_details[0]['index'])\n",
    "    tflite_results.append(decode(tflite_result))\n",
    "\n",
    "    \n",
    "# del interpreter\n",
    "\n",
    "max(tflite_results,key=tflite_results.count)"
   ]
  },
  {
   "cell_type": "code",
   "execution_count": 10,
   "id": "ff1dcd1b",
   "metadata": {},
   "outputs": [],
   "source": [
    "# model = tflit.Model('./model.tflite')"
   ]
  },
  {
   "cell_type": "code",
   "execution_count": 11,
   "id": "5cb3da24",
   "metadata": {},
   "outputs": [],
   "source": [
    "# image"
   ]
  },
  {
   "cell_type": "code",
   "execution_count": 12,
   "id": "c2a866ea",
   "metadata": {},
   "outputs": [],
   "source": [
    "# import numpy as np"
   ]
  },
  {
   "cell_type": "code",
   "execution_count": 13,
   "id": "379cabf3",
   "metadata": {},
   "outputs": [],
   "source": [
    "# prediction_model = tf.keras.models.load_model('./prediction_model.h5')\n",
    "\n",
    "# prediction_model.summary()"
   ]
  },
  {
   "cell_type": "code",
   "execution_count": 14,
   "id": "b692571e",
   "metadata": {},
   "outputs": [],
   "source": [
    "# np_img = np.array(image)\n",
    "# np_img = np_img / 255.\n",
    "# np_img = np.expand_dims(np_img, axis=-1)\n",
    "# np_img = np_img.transpose(1, 0, 2)\n",
    "# np_img = np.expand_dims(np_img, axis=0)"
   ]
  },
  {
   "cell_type": "code",
   "execution_count": 15,
   "id": "bca5b773",
   "metadata": {},
   "outputs": [],
   "source": [
    "# img_width = 150\n",
    "# img_height = 80\n",
    "# # img = tf.io.read_file('images/i0007.png')\n",
    "# # img = tf.io.decode_png(img, channels=1)\n",
    "# img = tf.image.convert_image_dtype(image_array/255., tf.float32)\n",
    "# img = tf.image.resize(img, [img_height, img_width])\n",
    "# img = tf.transpose(img, perm=[1, 0, 2])\n",
    "# img = tf.expand_dims(img, axis=0)\n",
    "# img.shape"
   ]
  },
  {
   "cell_type": "code",
   "execution_count": 16,
   "id": "057a6ba2",
   "metadata": {},
   "outputs": [],
   "source": [
    "# preds = model.predict(np_img)"
   ]
  },
  {
   "cell_type": "code",
   "execution_count": 17,
   "id": "944ff8c5",
   "metadata": {},
   "outputs": [],
   "source": [
    "# np.argmax(preds, axis=2)"
   ]
  },
  {
   "cell_type": "code",
   "execution_count": 18,
   "id": "806cf47b",
   "metadata": {},
   "outputs": [
    {
     "data": {
      "text/plain": [
       "array([[[[1.       ],\n",
       "         [1.       ],\n",
       "         [1.       ],\n",
       "         ...,\n",
       "         [1.       ],\n",
       "         [1.       ],\n",
       "         [1.       ]],\n",
       "\n",
       "        [[1.       ],\n",
       "         [1.       ],\n",
       "         [1.       ],\n",
       "         ...,\n",
       "         [0.4392157],\n",
       "         [1.       ],\n",
       "         [1.       ]],\n",
       "\n",
       "        [[1.       ],\n",
       "         [1.       ],\n",
       "         [1.       ],\n",
       "         ...,\n",
       "         [1.       ],\n",
       "         [1.       ],\n",
       "         [1.       ]],\n",
       "\n",
       "        ...,\n",
       "\n",
       "        [[1.       ],\n",
       "         [1.       ],\n",
       "         [1.       ],\n",
       "         ...,\n",
       "         [1.       ],\n",
       "         [1.       ],\n",
       "         [1.       ]],\n",
       "\n",
       "        [[1.       ],\n",
       "         [1.       ],\n",
       "         [1.       ],\n",
       "         ...,\n",
       "         [1.       ],\n",
       "         [1.       ],\n",
       "         [1.       ]],\n",
       "\n",
       "        [[1.       ],\n",
       "         [1.       ],\n",
       "         [1.       ],\n",
       "         ...,\n",
       "         [1.       ],\n",
       "         [1.       ],\n",
       "         [1.       ]]]], dtype=float32)"
      ]
     },
     "execution_count": 18,
     "metadata": {},
     "output_type": "execute_result"
    }
   ],
   "source": [
    "image"
   ]
  },
  {
   "cell_type": "code",
   "execution_count": 19,
   "id": "2720db4e",
   "metadata": {},
   "outputs": [],
   "source": [
    "# import tflite_runtime.interpreter as tflite\n"
   ]
  }
 ],
 "metadata": {
  "kernelspec": {
   "display_name": "Python 3 (ipykernel)",
   "language": "python",
   "name": "python3"
  },
  "language_info": {
   "codemirror_mode": {
    "name": "ipython",
    "version": 3
   },
   "file_extension": ".py",
   "mimetype": "text/x-python",
   "name": "python",
   "nbconvert_exporter": "python",
   "pygments_lexer": "ipython3",
   "version": "3.7.12"
  }
 },
 "nbformat": 4,
 "nbformat_minor": 5
}
